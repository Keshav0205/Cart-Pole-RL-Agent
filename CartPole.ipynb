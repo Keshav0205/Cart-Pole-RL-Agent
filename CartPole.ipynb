{
 "cells": [
  {
   "cell_type": "code",
   "execution_count": 1,
   "metadata": {},
   "outputs": [
    {
     "data": {
      "text/plain": [
       "array([ 0.04686096,  0.03516489, -0.00973275,  0.03354434])"
      ]
     },
     "execution_count": 1,
     "metadata": {},
     "output_type": "execute_result"
    }
   ],
   "source": [
    "import gym\n",
    "from time import sleep\n",
    "import numpy as np\n",
    "import math\n",
    "import random\n",
    "env = gym.make('CartPole-v0')\n",
    "env.reset()"
   ]
  },
  {
   "cell_type": "code",
   "execution_count": 2,
   "metadata": {},
   "outputs": [],
   "source": [
    "no_buckets = (1, 1, 6, 3)\n",
    "no_actions = env.action_space.n\n",
    "\n",
    "state_value_bounds = list(zip(env.observation_space.low, env.observation_space.high))\n",
    "state_value_bounds[1] = [-0.5, 0.5]\n",
    "state_value_bounds[3] = [-math.radians(50), math.radians(50)]\n",
    "\n",
    "action_index = len(no_buckets)\n",
    "q_value_table = np.zeros(no_buckets + (no_actions,))\n",
    "\n",
    "min_exp_rate = 0.01\n",
    "min_learning_rate = 0.1\n",
    "\n",
    "max_episodes = 1000\n",
    "max_time_steps = 250\n",
    "streak_to_end = 120\n",
    "solved_time = 199\n",
    "discount = 0.99\n",
    "no_streaks = 0"
   ]
  },
  {
   "cell_type": "code",
   "execution_count": 3,
   "metadata": {},
   "outputs": [],
   "source": [
    "def select_action(state_value, explore_rate): #epsilon greedy action selection\n",
    "    if random.random() < explore_rate:\n",
    "        action = env.action_space.sample() #random action\n",
    "    else:\n",
    "        action = np.argmax(q_value_table[state_value]) #greedy action\n",
    "\n",
    "def select_explore_rate(x):\n",
    "    return max(min_exp_rate, min(1, 1.0-math.log10((x+1)/25)))\n",
    "\n",
    "def select_learning_rate(x):\n",
    "    return max(min_learning_rate, min(0.5, 1.0-math.log10((x+1)/25)))\n",
    "\n",
    "def bucketize_state_value(state_value):\n",
    "    bucket_indexes = []\n",
    "    for i in range(len(state_value)):\n",
    "        if state_value[i] <= state_value_bounds[i][0]:\n",
    "            bucket_index = 0\n",
    "        elif state_value[i] >= state_value_bounds[i][1]:\n",
    "            bucket_index = no_buckets[i] - 1\n",
    "        else:\n",
    "            bound_width = state_value_bounds[i][1] - state_value_bounds[i][0]\n",
    "            offset = (no_buckets[i]-1) * state_value_bounds[i][0]/bound_width\n",
    "            scaling =  (no_buckets[i]-1)/bound_width\n",
    "            bucket_index = int(round(scaling * state_value[i] - offset))\n",
    "\n",
    "        bucket_indexes.append(bucket_index)\n",
    "        return tuple(bucket_indexes)"
   ]
  },
  {
   "cell_type": "code",
   "execution_count": 4,
   "metadata": {},
   "outputs": [
    {
     "ename": "TypeError",
     "evalue": "render() got an unexpected keyword argument 'close'",
     "output_type": "error",
     "traceback": [
      "\u001b[0;31m---------------------------------------------------------------------------\u001b[0m",
      "\u001b[0;31mTypeError\u001b[0m                                 Traceback (most recent call last)",
      "\u001b[0;32m<ipython-input-4-c2326e9842c6>\u001b[0m in \u001b[0;36m<module>\u001b[0;34m\u001b[0m\n\u001b[1;32m      9\u001b[0m \u001b[0;34m\u001b[0m\u001b[0m\n\u001b[1;32m     10\u001b[0m     \u001b[0;32mfor\u001b[0m \u001b[0mtime_step\u001b[0m \u001b[0;32min\u001b[0m \u001b[0mrange\u001b[0m\u001b[0;34m(\u001b[0m\u001b[0mmax_time_steps\u001b[0m\u001b[0;34m)\u001b[0m\u001b[0;34m:\u001b[0m\u001b[0;34m\u001b[0m\u001b[0;34m\u001b[0m\u001b[0m\n\u001b[0;32m---> 11\u001b[0;31m         \u001b[0menv\u001b[0m\u001b[0;34m.\u001b[0m\u001b[0mrender\u001b[0m\u001b[0;34m(\u001b[0m\u001b[0mclose\u001b[0m\u001b[0;34m=\u001b[0m\u001b[0;32mTrue\u001b[0m\u001b[0;34m)\u001b[0m\u001b[0;34m\u001b[0m\u001b[0;34m\u001b[0m\u001b[0m\n\u001b[0m\u001b[1;32m     12\u001b[0m         \u001b[0mselected_action\u001b[0m \u001b[0;34m=\u001b[0m \u001b[0mselect_action\u001b[0m\u001b[0;34m(\u001b[0m\u001b[0mprevious_state_value\u001b[0m\u001b[0;34m,\u001b[0m \u001b[0mexplore_rate\u001b[0m\u001b[0;34m)\u001b[0m\u001b[0;34m\u001b[0m\u001b[0;34m\u001b[0m\u001b[0m\n\u001b[1;32m     13\u001b[0m         \u001b[0mobservation\u001b[0m\u001b[0;34m,\u001b[0m \u001b[0mreward\u001b[0m\u001b[0;34m,\u001b[0m \u001b[0mcompleted\u001b[0m\u001b[0;34m,\u001b[0m \u001b[0minfo\u001b[0m \u001b[0;34m=\u001b[0m \u001b[0menv\u001b[0m\u001b[0;34m.\u001b[0m\u001b[0mstep\u001b[0m\u001b[0;34m(\u001b[0m\u001b[0mselected_action\u001b[0m\u001b[0;34m)\u001b[0m\u001b[0;34m\u001b[0m\u001b[0;34m\u001b[0m\u001b[0m\n",
      "\u001b[0;32m~/gym/gym/core.py\u001b[0m in \u001b[0;36mrender\u001b[0;34m(self, mode, **kwargs)\u001b[0m\n\u001b[1;32m    231\u001b[0m \u001b[0;34m\u001b[0m\u001b[0m\n\u001b[1;32m    232\u001b[0m     \u001b[0;32mdef\u001b[0m \u001b[0mrender\u001b[0m\u001b[0;34m(\u001b[0m\u001b[0mself\u001b[0m\u001b[0;34m,\u001b[0m \u001b[0mmode\u001b[0m\u001b[0;34m=\u001b[0m\u001b[0;34m'human'\u001b[0m\u001b[0;34m,\u001b[0m \u001b[0;34m**\u001b[0m\u001b[0mkwargs\u001b[0m\u001b[0;34m)\u001b[0m\u001b[0;34m:\u001b[0m\u001b[0;34m\u001b[0m\u001b[0;34m\u001b[0m\u001b[0m\n\u001b[0;32m--> 233\u001b[0;31m         \u001b[0;32mreturn\u001b[0m \u001b[0mself\u001b[0m\u001b[0;34m.\u001b[0m\u001b[0menv\u001b[0m\u001b[0;34m.\u001b[0m\u001b[0mrender\u001b[0m\u001b[0;34m(\u001b[0m\u001b[0mmode\u001b[0m\u001b[0;34m,\u001b[0m \u001b[0;34m**\u001b[0m\u001b[0mkwargs\u001b[0m\u001b[0;34m)\u001b[0m\u001b[0;34m\u001b[0m\u001b[0;34m\u001b[0m\u001b[0m\n\u001b[0m\u001b[1;32m    234\u001b[0m \u001b[0;34m\u001b[0m\u001b[0m\n\u001b[1;32m    235\u001b[0m     \u001b[0;32mdef\u001b[0m \u001b[0mclose\u001b[0m\u001b[0;34m(\u001b[0m\u001b[0mself\u001b[0m\u001b[0;34m)\u001b[0m\u001b[0;34m:\u001b[0m\u001b[0;34m\u001b[0m\u001b[0;34m\u001b[0m\u001b[0m\n",
      "\u001b[0;31mTypeError\u001b[0m: render() got an unexpected keyword argument 'close'"
     ]
    }
   ],
   "source": [
    "for episode in range(max_episodes):\n",
    "    explore_rate = select_explore_rate(episode)\n",
    "    learning_rate = select_learning_rate(episode)\n",
    "\n",
    "    observation = env.reset()\n",
    "\n",
    "    start_state_value = bucketize_state_value(observation)\n",
    "    previous_state_value = start_state_value\n",
    "\n",
    "    for time_step in range(max_time_steps):\n",
    "        env.render(close=True)\n",
    "        selected_action = select_action(previous_state_value, explore_rate)\n",
    "        observation, reward, completed, info = env.step(selected_action)\n",
    "        sleep(0.02)\n",
    "        state_value = bucketize_state_value(observation)\n",
    "        best_q_value = np.amax(q_value_table[state_value])\n",
    "\n",
    "        q_value_table[previous_state_value + (selected_action,)] = learning_rate * (\n",
    "        reward + discount * best_q_value - q_value_table[previous_state_value, + (selected_action,)]\n",
    "        )\n",
    "\n",
    "        print('Episode : {}'.format(episode))\n",
    "        print('Time step : {}'.format(time_step))\n",
    "        print('Selected action : {}'.format(selected_action))\n",
    "        print('Current state : {}'.format(str(state_value)))\n",
    "        print('Reward : {}'.format(reward))\n",
    "        print('Best Q-value : {}'.format(best_q_value))\n",
    "        print('Learning Rate : {}'.format(learning_rate))\n",
    "        print('Explore Rate : %f'.format(explore_rate))\n",
    "\n",
    "        if completed:\n",
    "            print('Episode {} finished after {} time steps'.format(episode, time_step))\n",
    "            if time_step>=solved_time:\n",
    "                no_streaks+=1\n",
    "            else:\n",
    "                no_streaks = 0\n",
    "            break\n",
    "\n",
    "        previous_state_value = state_value_bounds\n",
    "\n",
    "        if no_streaks > streak_to_end:\n",
    "            break\n",
    "env.close()"
   ]
  }
 ],
 "metadata": {
  "kernelspec": {
   "display_name": "Python 3",
   "language": "python",
   "name": "python3"
  },
  "language_info": {
   "codemirror_mode": {
    "name": "ipython",
    "version": 3
   },
   "file_extension": ".py",
   "mimetype": "text/x-python",
   "name": "python",
   "nbconvert_exporter": "python",
   "pygments_lexer": "ipython3",
   "version": "3.6.10"
  }
 },
 "nbformat": 4,
 "nbformat_minor": 4
}
